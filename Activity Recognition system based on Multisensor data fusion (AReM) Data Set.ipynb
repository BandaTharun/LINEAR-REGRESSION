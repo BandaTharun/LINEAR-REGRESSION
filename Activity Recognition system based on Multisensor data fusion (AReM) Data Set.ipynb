{
 "cells": [
  {
   "cell_type": "code",
   "execution_count": 1,
   "id": "7c7769dd",
   "metadata": {},
   "outputs": [],
   "source": [
    "import pandas as pd\n",
    "import numpy as np \n",
    "import matplotlib.pyplot as plt\n",
    "import seaborn as sns\n",
    "from sklearn.preprocessing import StandardScaler\n",
    "from glob import glob\n",
    "import os\n",
    "from pandas_profiling import ProfileReport\n",
    "from sklearn.preprocessing import StandardScaler\n",
    "from sklearn.model_selection import train_test_split\n",
    "from sklearn.linear_model  import Ridge,Lasso,RidgeCV, LassoCV, ElasticNet, ElasticNetCV, LogisticRegression\n",
    "from sklearn.metrics import accuracy_score,confusion_matrix,roc_curve,roc_auc_score\n",
    "import matplotlib.pyplot as plt\n",
    "import seaborn as sns\n",
    "import pickle\n"
   ]
  },
  {
   "cell_type": "code",
   "execution_count": 2,
   "id": "06e00803",
   "metadata": {},
   "outputs": [],
   "source": [
    "#for multi line commenting use control slash"
   ]
  },
  {
   "cell_type": "code",
   "execution_count": 3,
   "id": "e613bbda",
   "metadata": {},
   "outputs": [],
   "source": [
    "# ##def sub_folder(data):\n",
    "#    # for files in os.listdir(data):\n",
    "#       #  Dataframe= pd.read_csv(data+files)\n",
    "        \n",
    "#    # return DataFrame\n",
    "\n",
    "# #sub_folder(path_dir)\n",
    "# ##DataFrame1 = pd.read_csv(path_dir+dataset1.csv)\n",
    "\n",
    "# ##for files in os.listdir(path_dir):\n",
    "#        ##DataFrame = pd.read_csv(path_dir+files)\n",
    "#     ##path_dir = 'C:/Users/Tharun reddy/Downloads/AReM/bending1/'\n",
    "# ##for files in os.listdir(path_dir):\n",
    "#       ## print(files)\n",
    "#  # import openpyxl  filename=files[1]\n",
    "# #wb=openpyxl.load_workbook(filename,skiprows=)\n",
    "# #wb\n",
    "# #data = pd.concat((pd.read_csv(files[1])),ignore_index=True)\n",
    "#      #df3= pd.read_csv(files[1], skiprows=3)\n",
    "    \n",
    "# #df3\n",
    "# # import module\n",
    "# import pandas as pd\n",
    " \n",
    "# # assign dataset names\n",
    "# list_of_names = ['crime','username']\n",
    " \n",
    "# # create empty list\n",
    "# dataframes_list = []\n",
    " \n",
    "# # append datasets into the list\n",
    "# #for i in range(len(list_of_names)):\n",
    "#    # temp_df = pd.read_csv(\"./csv/\"+list_of_names[i]+\".csv\")\n",
    "#     #dataframes_list.append(temp_df)"
   ]
  },
  {
   "cell_type": "code",
   "execution_count": 4,
   "id": "f0001dfb",
   "metadata": {},
   "outputs": [],
   "source": [
    "# glob is to read multiple files at a time\n",
    "#from glob import glob"
   ]
  },
  {
   "cell_type": "code",
   "execution_count": 27,
   "id": "7c33e132",
   "metadata": {},
   "outputs": [],
   "source": [
    "org_path='C:/Users/Tharun reddy/Downloads/AReM/'\n",
    "all_classfolders= glob(org_path +'*')\n",
    "path1='C:/Users/Tharun reddy/Downloads/AReM/bending1/'\n",
    "path2='C:/Users/Tharun reddy/Downloads/AReM/bending2/'\n",
    "path3='C:/Users/Tharun reddy/Downloads/AReM/cycling/'\n",
    "path4='C:/Users/Tharun reddy/Downloads/AReM/lying/'\n",
    "path5='C:/Users/Tharun reddy/Downloads/AReM/sitting/'\n",
    "path6='C:/Users/Tharun reddy/Downloads/AReM/standing/'\n",
    "path7='C:/Users/Tharun reddy/Downloads/AReM/walking/'\n",
    "files1=glob(path1 +'dataset*')\n",
    "files2=glob(path2 +'dataset*')\n",
    "files3=glob(path3 +'dataset*')\n",
    "files4=glob(path4 +'dataset*')\n",
    "files5=glob(path5 +'dataset*')\n",
    "files6=glob(path6 +'dataset*')\n",
    "files7=glob(path7 +'dataset*')\n",
    "\n"
   ]
  },
  {
   "cell_type": "code",
   "execution_count": 23,
   "id": "ea09e01a",
   "metadata": {},
   "outputs": [
    {
     "ename": "NameError",
     "evalue": "name 'i' is not defined",
     "output_type": "error",
     "traceback": [
      "\u001b[1;31m---------------------------------------------------------------------------\u001b[0m",
      "\u001b[1;31mNameError\u001b[0m                                 Traceback (most recent call last)",
      "Input \u001b[1;32mIn [23]\u001b[0m, in \u001b[0;36m<cell line: 1>\u001b[1;34m()\u001b[0m\n\u001b[1;32m----> 1\u001b[0m temp_df1\u001b[38;5;241m=\u001b[39m(pd\u001b[38;5;241m.\u001b[39mread_csv(files4[\u001b[43mi\u001b[49m\u001b[38;5;241m-\u001b[39m\u001b[38;5;241m1\u001b[39m],skiprows\u001b[38;5;241m=\u001b[39m\u001b[38;5;241m4\u001b[39m))\n\u001b[0;32m      2\u001b[0m temp_df1\u001b[38;5;241m=\u001b[39m(pd\u001b[38;5;241m.\u001b[39mread_csv(files4[i],skiprows\u001b[38;5;241m=\u001b[39m\u001b[38;5;241m4\u001b[39m))\n\u001b[0;32m      3\u001b[0m dataframes_list1\u001b[38;5;241m.\u001b[39mappend(temp_df1)\n",
      "\u001b[1;31mNameError\u001b[0m: name 'i' is not defined"
     ]
    }
   ],
   "source": [
    "\n",
    "temp_df1=(pd.read_csv(files4[i-1],skiprows=4))\n",
    "temp_df1=(pd.read_csv(files4[i],skiprows=4))\n",
    "dataframes_list1.append(temp_df1)\n",
    "    \n",
    "temp_df=(pd.read_csv(files[k],skiprows=4))\n",
    "dataframes_list.append(temp_df)\n",
    "        "
   ]
  },
  {
   "cell_type": "code",
   "execution_count": 19,
   "id": "87d4a335",
   "metadata": {},
   "outputs": [
    {
     "ename": "ValueError",
     "evalue": "No objects to concatenate",
     "output_type": "error",
     "traceback": [
      "\u001b[1;31m---------------------------------------------------------------------------\u001b[0m",
      "\u001b[1;31mValueError\u001b[0m                                Traceback (most recent call last)",
      "Input \u001b[1;32mIn [19]\u001b[0m, in \u001b[0;36m<cell line: 7>\u001b[1;34m()\u001b[0m\n\u001b[0;32m      3\u001b[0m         temp_df1\u001b[38;5;241m=\u001b[39m(pd\u001b[38;5;241m.\u001b[39mread_csv(files1[k],skiprows\u001b[38;5;241m=\u001b[39m\u001b[38;5;241m4\u001b[39m))\n\u001b[0;32m      4\u001b[0m         dataframes_list1\u001b[38;5;241m.\u001b[39mappend(temp_df1)\n\u001b[1;32m----> 7\u001b[0m data1\u001b[38;5;241m=\u001b[39m\u001b[43mpd\u001b[49m\u001b[38;5;241;43m.\u001b[39;49m\u001b[43mconcat\u001b[49m\u001b[43m(\u001b[49m\u001b[43mdataframes_list1\u001b[49m\u001b[43m)\u001b[49m            \n\u001b[0;32m      8\u001b[0m df1\u001b[38;5;241m=\u001b[39mpd\u001b[38;5;241m.\u001b[39mDataFrame(data1)\n\u001b[0;32m      9\u001b[0m df1[\u001b[38;5;124m'\u001b[39m\u001b[38;5;124mclass\u001b[39m\u001b[38;5;124m'\u001b[39m]\u001b[38;5;241m=\u001b[39m\u001b[38;5;124m'\u001b[39m\u001b[38;5;124mbending1\u001b[39m\u001b[38;5;124m'\u001b[39m\n",
      "File \u001b[1;32mC:\\new conda\\lib\\site-packages\\pandas\\util\\_decorators.py:311\u001b[0m, in \u001b[0;36mdeprecate_nonkeyword_arguments.<locals>.decorate.<locals>.wrapper\u001b[1;34m(*args, **kwargs)\u001b[0m\n\u001b[0;32m    305\u001b[0m \u001b[38;5;28;01mif\u001b[39;00m \u001b[38;5;28mlen\u001b[39m(args) \u001b[38;5;241m>\u001b[39m num_allow_args:\n\u001b[0;32m    306\u001b[0m     warnings\u001b[38;5;241m.\u001b[39mwarn(\n\u001b[0;32m    307\u001b[0m         msg\u001b[38;5;241m.\u001b[39mformat(arguments\u001b[38;5;241m=\u001b[39marguments),\n\u001b[0;32m    308\u001b[0m         \u001b[38;5;167;01mFutureWarning\u001b[39;00m,\n\u001b[0;32m    309\u001b[0m         stacklevel\u001b[38;5;241m=\u001b[39mstacklevel,\n\u001b[0;32m    310\u001b[0m     )\n\u001b[1;32m--> 311\u001b[0m \u001b[38;5;28;01mreturn\u001b[39;00m func(\u001b[38;5;241m*\u001b[39margs, \u001b[38;5;241m*\u001b[39m\u001b[38;5;241m*\u001b[39mkwargs)\n",
      "File \u001b[1;32mC:\\new conda\\lib\\site-packages\\pandas\\core\\reshape\\concat.py:347\u001b[0m, in \u001b[0;36mconcat\u001b[1;34m(objs, axis, join, ignore_index, keys, levels, names, verify_integrity, sort, copy)\u001b[0m\n\u001b[0;32m    143\u001b[0m \u001b[38;5;129m@deprecate_nonkeyword_arguments\u001b[39m(version\u001b[38;5;241m=\u001b[39m\u001b[38;5;28;01mNone\u001b[39;00m, allowed_args\u001b[38;5;241m=\u001b[39m[\u001b[38;5;124m\"\u001b[39m\u001b[38;5;124mobjs\u001b[39m\u001b[38;5;124m\"\u001b[39m])\n\u001b[0;32m    144\u001b[0m \u001b[38;5;28;01mdef\u001b[39;00m \u001b[38;5;21mconcat\u001b[39m(\n\u001b[0;32m    145\u001b[0m     objs: Iterable[NDFrame] \u001b[38;5;241m|\u001b[39m Mapping[Hashable, NDFrame],\n\u001b[1;32m   (...)\u001b[0m\n\u001b[0;32m    154\u001b[0m     copy: \u001b[38;5;28mbool\u001b[39m \u001b[38;5;241m=\u001b[39m \u001b[38;5;28;01mTrue\u001b[39;00m,\n\u001b[0;32m    155\u001b[0m ) \u001b[38;5;241m-\u001b[39m\u001b[38;5;241m>\u001b[39m DataFrame \u001b[38;5;241m|\u001b[39m Series:\n\u001b[0;32m    156\u001b[0m     \u001b[38;5;124;03m\"\"\"\u001b[39;00m\n\u001b[0;32m    157\u001b[0m \u001b[38;5;124;03m    Concatenate pandas objects along a particular axis with optional set logic\u001b[39;00m\n\u001b[0;32m    158\u001b[0m \u001b[38;5;124;03m    along the other axes.\u001b[39;00m\n\u001b[1;32m   (...)\u001b[0m\n\u001b[0;32m    345\u001b[0m \u001b[38;5;124;03m    ValueError: Indexes have overlapping values: ['a']\u001b[39;00m\n\u001b[0;32m    346\u001b[0m \u001b[38;5;124;03m    \"\"\"\u001b[39;00m\n\u001b[1;32m--> 347\u001b[0m     op \u001b[38;5;241m=\u001b[39m \u001b[43m_Concatenator\u001b[49m\u001b[43m(\u001b[49m\n\u001b[0;32m    348\u001b[0m \u001b[43m        \u001b[49m\u001b[43mobjs\u001b[49m\u001b[43m,\u001b[49m\n\u001b[0;32m    349\u001b[0m \u001b[43m        \u001b[49m\u001b[43maxis\u001b[49m\u001b[38;5;241;43m=\u001b[39;49m\u001b[43maxis\u001b[49m\u001b[43m,\u001b[49m\n\u001b[0;32m    350\u001b[0m \u001b[43m        \u001b[49m\u001b[43mignore_index\u001b[49m\u001b[38;5;241;43m=\u001b[39;49m\u001b[43mignore_index\u001b[49m\u001b[43m,\u001b[49m\n\u001b[0;32m    351\u001b[0m \u001b[43m        \u001b[49m\u001b[43mjoin\u001b[49m\u001b[38;5;241;43m=\u001b[39;49m\u001b[43mjoin\u001b[49m\u001b[43m,\u001b[49m\n\u001b[0;32m    352\u001b[0m \u001b[43m        \u001b[49m\u001b[43mkeys\u001b[49m\u001b[38;5;241;43m=\u001b[39;49m\u001b[43mkeys\u001b[49m\u001b[43m,\u001b[49m\n\u001b[0;32m    353\u001b[0m \u001b[43m        \u001b[49m\u001b[43mlevels\u001b[49m\u001b[38;5;241;43m=\u001b[39;49m\u001b[43mlevels\u001b[49m\u001b[43m,\u001b[49m\n\u001b[0;32m    354\u001b[0m \u001b[43m        \u001b[49m\u001b[43mnames\u001b[49m\u001b[38;5;241;43m=\u001b[39;49m\u001b[43mnames\u001b[49m\u001b[43m,\u001b[49m\n\u001b[0;32m    355\u001b[0m \u001b[43m        \u001b[49m\u001b[43mverify_integrity\u001b[49m\u001b[38;5;241;43m=\u001b[39;49m\u001b[43mverify_integrity\u001b[49m\u001b[43m,\u001b[49m\n\u001b[0;32m    356\u001b[0m \u001b[43m        \u001b[49m\u001b[43mcopy\u001b[49m\u001b[38;5;241;43m=\u001b[39;49m\u001b[43mcopy\u001b[49m\u001b[43m,\u001b[49m\n\u001b[0;32m    357\u001b[0m \u001b[43m        \u001b[49m\u001b[43msort\u001b[49m\u001b[38;5;241;43m=\u001b[39;49m\u001b[43msort\u001b[49m\u001b[43m,\u001b[49m\n\u001b[0;32m    358\u001b[0m \u001b[43m    \u001b[49m\u001b[43m)\u001b[49m\n\u001b[0;32m    360\u001b[0m     \u001b[38;5;28;01mreturn\u001b[39;00m op\u001b[38;5;241m.\u001b[39mget_result()\n",
      "File \u001b[1;32mC:\\new conda\\lib\\site-packages\\pandas\\core\\reshape\\concat.py:404\u001b[0m, in \u001b[0;36m_Concatenator.__init__\u001b[1;34m(self, objs, axis, join, keys, levels, names, ignore_index, verify_integrity, copy, sort)\u001b[0m\n\u001b[0;32m    401\u001b[0m     objs \u001b[38;5;241m=\u001b[39m \u001b[38;5;28mlist\u001b[39m(objs)\n\u001b[0;32m    403\u001b[0m \u001b[38;5;28;01mif\u001b[39;00m \u001b[38;5;28mlen\u001b[39m(objs) \u001b[38;5;241m==\u001b[39m \u001b[38;5;241m0\u001b[39m:\n\u001b[1;32m--> 404\u001b[0m     \u001b[38;5;28;01mraise\u001b[39;00m \u001b[38;5;167;01mValueError\u001b[39;00m(\u001b[38;5;124m\"\u001b[39m\u001b[38;5;124mNo objects to concatenate\u001b[39m\u001b[38;5;124m\"\u001b[39m)\n\u001b[0;32m    406\u001b[0m \u001b[38;5;28;01mif\u001b[39;00m keys \u001b[38;5;129;01mis\u001b[39;00m \u001b[38;5;28;01mNone\u001b[39;00m:\n\u001b[0;32m    407\u001b[0m     objs \u001b[38;5;241m=\u001b[39m \u001b[38;5;28mlist\u001b[39m(com\u001b[38;5;241m.\u001b[39mnot_none(\u001b[38;5;241m*\u001b[39mobjs))\n",
      "\u001b[1;31mValueError\u001b[0m: No objects to concatenate"
     ]
    }
   ],
   "source": [
    "dataframes_list1 =[]\n",
    "for k in range(len(files1)):\n",
    "        temp_df1=(pd.read_csv(files1[k],skiprows=4))\n",
    "        dataframes_list1.append(temp_df1)\n",
    "        \n",
    "        \n",
    "data1=pd.concat(dataframes_list1)            \n",
    "df1=pd.DataFrame(data1)\n",
    "df1['class']='bending1'\n",
    "\n"
   ]
  },
  {
   "cell_type": "code",
   "execution_count": 10,
   "id": "6434c0ed",
   "metadata": {},
   "outputs": [
    {
     "ename": "ValueError",
     "evalue": "No objects to concatenate",
     "output_type": "error",
     "traceback": [
      "\u001b[1;31m---------------------------------------------------------------------------\u001b[0m",
      "\u001b[1;31mValueError\u001b[0m                                Traceback (most recent call last)",
      "Input \u001b[1;32mIn [10]\u001b[0m, in \u001b[0;36m<cell line: 7>\u001b[1;34m()\u001b[0m\n\u001b[0;32m      3\u001b[0m         temp_df2\u001b[38;5;241m=\u001b[39m(pd\u001b[38;5;241m.\u001b[39mread_csv(files2[k],skiprows\u001b[38;5;241m=\u001b[39m\u001b[38;5;241m4\u001b[39m))\n\u001b[0;32m      4\u001b[0m         dataframes_list2\u001b[38;5;241m.\u001b[39mappend(temp_df2)\n\u001b[1;32m----> 7\u001b[0m data2\u001b[38;5;241m=\u001b[39m\u001b[43mpd\u001b[49m\u001b[38;5;241;43m.\u001b[39;49m\u001b[43mconcat\u001b[49m\u001b[43m(\u001b[49m\u001b[43mdataframes_list2\u001b[49m\u001b[43m)\u001b[49m            \n\u001b[0;32m      8\u001b[0m df2\u001b[38;5;241m=\u001b[39mpd\u001b[38;5;241m.\u001b[39mDataFrame(data2)\n\u001b[0;32m      9\u001b[0m df2[\u001b[38;5;124m'\u001b[39m\u001b[38;5;124mclass\u001b[39m\u001b[38;5;124m'\u001b[39m]\u001b[38;5;241m=\u001b[39m\u001b[38;5;124m'\u001b[39m\u001b[38;5;124mbending2\u001b[39m\u001b[38;5;124m'\u001b[39m\n",
      "File \u001b[1;32mC:\\new conda\\lib\\site-packages\\pandas\\util\\_decorators.py:311\u001b[0m, in \u001b[0;36mdeprecate_nonkeyword_arguments.<locals>.decorate.<locals>.wrapper\u001b[1;34m(*args, **kwargs)\u001b[0m\n\u001b[0;32m    305\u001b[0m \u001b[38;5;28;01mif\u001b[39;00m \u001b[38;5;28mlen\u001b[39m(args) \u001b[38;5;241m>\u001b[39m num_allow_args:\n\u001b[0;32m    306\u001b[0m     warnings\u001b[38;5;241m.\u001b[39mwarn(\n\u001b[0;32m    307\u001b[0m         msg\u001b[38;5;241m.\u001b[39mformat(arguments\u001b[38;5;241m=\u001b[39marguments),\n\u001b[0;32m    308\u001b[0m         \u001b[38;5;167;01mFutureWarning\u001b[39;00m,\n\u001b[0;32m    309\u001b[0m         stacklevel\u001b[38;5;241m=\u001b[39mstacklevel,\n\u001b[0;32m    310\u001b[0m     )\n\u001b[1;32m--> 311\u001b[0m \u001b[38;5;28;01mreturn\u001b[39;00m func(\u001b[38;5;241m*\u001b[39margs, \u001b[38;5;241m*\u001b[39m\u001b[38;5;241m*\u001b[39mkwargs)\n",
      "File \u001b[1;32mC:\\new conda\\lib\\site-packages\\pandas\\core\\reshape\\concat.py:347\u001b[0m, in \u001b[0;36mconcat\u001b[1;34m(objs, axis, join, ignore_index, keys, levels, names, verify_integrity, sort, copy)\u001b[0m\n\u001b[0;32m    143\u001b[0m \u001b[38;5;129m@deprecate_nonkeyword_arguments\u001b[39m(version\u001b[38;5;241m=\u001b[39m\u001b[38;5;28;01mNone\u001b[39;00m, allowed_args\u001b[38;5;241m=\u001b[39m[\u001b[38;5;124m\"\u001b[39m\u001b[38;5;124mobjs\u001b[39m\u001b[38;5;124m\"\u001b[39m])\n\u001b[0;32m    144\u001b[0m \u001b[38;5;28;01mdef\u001b[39;00m \u001b[38;5;21mconcat\u001b[39m(\n\u001b[0;32m    145\u001b[0m     objs: Iterable[NDFrame] \u001b[38;5;241m|\u001b[39m Mapping[Hashable, NDFrame],\n\u001b[1;32m   (...)\u001b[0m\n\u001b[0;32m    154\u001b[0m     copy: \u001b[38;5;28mbool\u001b[39m \u001b[38;5;241m=\u001b[39m \u001b[38;5;28;01mTrue\u001b[39;00m,\n\u001b[0;32m    155\u001b[0m ) \u001b[38;5;241m-\u001b[39m\u001b[38;5;241m>\u001b[39m DataFrame \u001b[38;5;241m|\u001b[39m Series:\n\u001b[0;32m    156\u001b[0m     \u001b[38;5;124;03m\"\"\"\u001b[39;00m\n\u001b[0;32m    157\u001b[0m \u001b[38;5;124;03m    Concatenate pandas objects along a particular axis with optional set logic\u001b[39;00m\n\u001b[0;32m    158\u001b[0m \u001b[38;5;124;03m    along the other axes.\u001b[39;00m\n\u001b[1;32m   (...)\u001b[0m\n\u001b[0;32m    345\u001b[0m \u001b[38;5;124;03m    ValueError: Indexes have overlapping values: ['a']\u001b[39;00m\n\u001b[0;32m    346\u001b[0m \u001b[38;5;124;03m    \"\"\"\u001b[39;00m\n\u001b[1;32m--> 347\u001b[0m     op \u001b[38;5;241m=\u001b[39m \u001b[43m_Concatenator\u001b[49m\u001b[43m(\u001b[49m\n\u001b[0;32m    348\u001b[0m \u001b[43m        \u001b[49m\u001b[43mobjs\u001b[49m\u001b[43m,\u001b[49m\n\u001b[0;32m    349\u001b[0m \u001b[43m        \u001b[49m\u001b[43maxis\u001b[49m\u001b[38;5;241;43m=\u001b[39;49m\u001b[43maxis\u001b[49m\u001b[43m,\u001b[49m\n\u001b[0;32m    350\u001b[0m \u001b[43m        \u001b[49m\u001b[43mignore_index\u001b[49m\u001b[38;5;241;43m=\u001b[39;49m\u001b[43mignore_index\u001b[49m\u001b[43m,\u001b[49m\n\u001b[0;32m    351\u001b[0m \u001b[43m        \u001b[49m\u001b[43mjoin\u001b[49m\u001b[38;5;241;43m=\u001b[39;49m\u001b[43mjoin\u001b[49m\u001b[43m,\u001b[49m\n\u001b[0;32m    352\u001b[0m \u001b[43m        \u001b[49m\u001b[43mkeys\u001b[49m\u001b[38;5;241;43m=\u001b[39;49m\u001b[43mkeys\u001b[49m\u001b[43m,\u001b[49m\n\u001b[0;32m    353\u001b[0m \u001b[43m        \u001b[49m\u001b[43mlevels\u001b[49m\u001b[38;5;241;43m=\u001b[39;49m\u001b[43mlevels\u001b[49m\u001b[43m,\u001b[49m\n\u001b[0;32m    354\u001b[0m \u001b[43m        \u001b[49m\u001b[43mnames\u001b[49m\u001b[38;5;241;43m=\u001b[39;49m\u001b[43mnames\u001b[49m\u001b[43m,\u001b[49m\n\u001b[0;32m    355\u001b[0m \u001b[43m        \u001b[49m\u001b[43mverify_integrity\u001b[49m\u001b[38;5;241;43m=\u001b[39;49m\u001b[43mverify_integrity\u001b[49m\u001b[43m,\u001b[49m\n\u001b[0;32m    356\u001b[0m \u001b[43m        \u001b[49m\u001b[43mcopy\u001b[49m\u001b[38;5;241;43m=\u001b[39;49m\u001b[43mcopy\u001b[49m\u001b[43m,\u001b[49m\n\u001b[0;32m    357\u001b[0m \u001b[43m        \u001b[49m\u001b[43msort\u001b[49m\u001b[38;5;241;43m=\u001b[39;49m\u001b[43msort\u001b[49m\u001b[43m,\u001b[49m\n\u001b[0;32m    358\u001b[0m \u001b[43m    \u001b[49m\u001b[43m)\u001b[49m\n\u001b[0;32m    360\u001b[0m     \u001b[38;5;28;01mreturn\u001b[39;00m op\u001b[38;5;241m.\u001b[39mget_result()\n",
      "File \u001b[1;32mC:\\new conda\\lib\\site-packages\\pandas\\core\\reshape\\concat.py:404\u001b[0m, in \u001b[0;36m_Concatenator.__init__\u001b[1;34m(self, objs, axis, join, keys, levels, names, ignore_index, verify_integrity, copy, sort)\u001b[0m\n\u001b[0;32m    401\u001b[0m     objs \u001b[38;5;241m=\u001b[39m \u001b[38;5;28mlist\u001b[39m(objs)\n\u001b[0;32m    403\u001b[0m \u001b[38;5;28;01mif\u001b[39;00m \u001b[38;5;28mlen\u001b[39m(objs) \u001b[38;5;241m==\u001b[39m \u001b[38;5;241m0\u001b[39m:\n\u001b[1;32m--> 404\u001b[0m     \u001b[38;5;28;01mraise\u001b[39;00m \u001b[38;5;167;01mValueError\u001b[39;00m(\u001b[38;5;124m\"\u001b[39m\u001b[38;5;124mNo objects to concatenate\u001b[39m\u001b[38;5;124m\"\u001b[39m)\n\u001b[0;32m    406\u001b[0m \u001b[38;5;28;01mif\u001b[39;00m keys \u001b[38;5;129;01mis\u001b[39;00m \u001b[38;5;28;01mNone\u001b[39;00m:\n\u001b[0;32m    407\u001b[0m     objs \u001b[38;5;241m=\u001b[39m \u001b[38;5;28mlist\u001b[39m(com\u001b[38;5;241m.\u001b[39mnot_none(\u001b[38;5;241m*\u001b[39mobjs))\n",
      "\u001b[1;31mValueError\u001b[0m: No objects to concatenate"
     ]
    }
   ],
   "source": [
    "dataframes_list2 =[]\n",
    "for k in range(len(files2)):\n",
    "        temp_df2=(pd.read_csv(files2[k],skiprows=4))\n",
    "        dataframes_list2.append(temp_df2)\n",
    "        \n",
    "        \n",
    "data2=pd.concat(dataframes_list2)            \n",
    "df2=pd.DataFrame(data2)\n",
    "df2['class']='bending2'\n"
   ]
  },
  {
   "cell_type": "code",
   "execution_count": 11,
   "id": "15038389",
   "metadata": {},
   "outputs": [
    {
     "ename": "ValueError",
     "evalue": "No objects to concatenate",
     "output_type": "error",
     "traceback": [
      "\u001b[1;31m---------------------------------------------------------------------------\u001b[0m",
      "\u001b[1;31mValueError\u001b[0m                                Traceback (most recent call last)",
      "Input \u001b[1;32mIn [11]\u001b[0m, in \u001b[0;36m<cell line: 7>\u001b[1;34m()\u001b[0m\n\u001b[0;32m      3\u001b[0m         temp_df3\u001b[38;5;241m=\u001b[39m(pd\u001b[38;5;241m.\u001b[39mread_csv(files3[k],skiprows\u001b[38;5;241m=\u001b[39m\u001b[38;5;241m3\u001b[39m))\n\u001b[0;32m      4\u001b[0m         dataframes_list3\u001b[38;5;241m.\u001b[39mappend(temp_df3)\n\u001b[1;32m----> 7\u001b[0m data3\u001b[38;5;241m=\u001b[39m\u001b[43mpd\u001b[49m\u001b[38;5;241;43m.\u001b[39;49m\u001b[43mconcat\u001b[49m\u001b[43m(\u001b[49m\u001b[43mdataframes_list3\u001b[49m\u001b[43m)\u001b[49m            \n\u001b[0;32m      8\u001b[0m df3\u001b[38;5;241m=\u001b[39mpd\u001b[38;5;241m.\u001b[39mDataFrame(data3)\n\u001b[0;32m      9\u001b[0m df3[\u001b[38;5;124m'\u001b[39m\u001b[38;5;124mclass\u001b[39m\u001b[38;5;124m'\u001b[39m]\u001b[38;5;241m=\u001b[39m\u001b[38;5;124m'\u001b[39m\u001b[38;5;124mcycling\u001b[39m\u001b[38;5;124m'\u001b[39m\n",
      "File \u001b[1;32mC:\\new conda\\lib\\site-packages\\pandas\\util\\_decorators.py:311\u001b[0m, in \u001b[0;36mdeprecate_nonkeyword_arguments.<locals>.decorate.<locals>.wrapper\u001b[1;34m(*args, **kwargs)\u001b[0m\n\u001b[0;32m    305\u001b[0m \u001b[38;5;28;01mif\u001b[39;00m \u001b[38;5;28mlen\u001b[39m(args) \u001b[38;5;241m>\u001b[39m num_allow_args:\n\u001b[0;32m    306\u001b[0m     warnings\u001b[38;5;241m.\u001b[39mwarn(\n\u001b[0;32m    307\u001b[0m         msg\u001b[38;5;241m.\u001b[39mformat(arguments\u001b[38;5;241m=\u001b[39marguments),\n\u001b[0;32m    308\u001b[0m         \u001b[38;5;167;01mFutureWarning\u001b[39;00m,\n\u001b[0;32m    309\u001b[0m         stacklevel\u001b[38;5;241m=\u001b[39mstacklevel,\n\u001b[0;32m    310\u001b[0m     )\n\u001b[1;32m--> 311\u001b[0m \u001b[38;5;28;01mreturn\u001b[39;00m func(\u001b[38;5;241m*\u001b[39margs, \u001b[38;5;241m*\u001b[39m\u001b[38;5;241m*\u001b[39mkwargs)\n",
      "File \u001b[1;32mC:\\new conda\\lib\\site-packages\\pandas\\core\\reshape\\concat.py:347\u001b[0m, in \u001b[0;36mconcat\u001b[1;34m(objs, axis, join, ignore_index, keys, levels, names, verify_integrity, sort, copy)\u001b[0m\n\u001b[0;32m    143\u001b[0m \u001b[38;5;129m@deprecate_nonkeyword_arguments\u001b[39m(version\u001b[38;5;241m=\u001b[39m\u001b[38;5;28;01mNone\u001b[39;00m, allowed_args\u001b[38;5;241m=\u001b[39m[\u001b[38;5;124m\"\u001b[39m\u001b[38;5;124mobjs\u001b[39m\u001b[38;5;124m\"\u001b[39m])\n\u001b[0;32m    144\u001b[0m \u001b[38;5;28;01mdef\u001b[39;00m \u001b[38;5;21mconcat\u001b[39m(\n\u001b[0;32m    145\u001b[0m     objs: Iterable[NDFrame] \u001b[38;5;241m|\u001b[39m Mapping[Hashable, NDFrame],\n\u001b[1;32m   (...)\u001b[0m\n\u001b[0;32m    154\u001b[0m     copy: \u001b[38;5;28mbool\u001b[39m \u001b[38;5;241m=\u001b[39m \u001b[38;5;28;01mTrue\u001b[39;00m,\n\u001b[0;32m    155\u001b[0m ) \u001b[38;5;241m-\u001b[39m\u001b[38;5;241m>\u001b[39m DataFrame \u001b[38;5;241m|\u001b[39m Series:\n\u001b[0;32m    156\u001b[0m     \u001b[38;5;124;03m\"\"\"\u001b[39;00m\n\u001b[0;32m    157\u001b[0m \u001b[38;5;124;03m    Concatenate pandas objects along a particular axis with optional set logic\u001b[39;00m\n\u001b[0;32m    158\u001b[0m \u001b[38;5;124;03m    along the other axes.\u001b[39;00m\n\u001b[1;32m   (...)\u001b[0m\n\u001b[0;32m    345\u001b[0m \u001b[38;5;124;03m    ValueError: Indexes have overlapping values: ['a']\u001b[39;00m\n\u001b[0;32m    346\u001b[0m \u001b[38;5;124;03m    \"\"\"\u001b[39;00m\n\u001b[1;32m--> 347\u001b[0m     op \u001b[38;5;241m=\u001b[39m \u001b[43m_Concatenator\u001b[49m\u001b[43m(\u001b[49m\n\u001b[0;32m    348\u001b[0m \u001b[43m        \u001b[49m\u001b[43mobjs\u001b[49m\u001b[43m,\u001b[49m\n\u001b[0;32m    349\u001b[0m \u001b[43m        \u001b[49m\u001b[43maxis\u001b[49m\u001b[38;5;241;43m=\u001b[39;49m\u001b[43maxis\u001b[49m\u001b[43m,\u001b[49m\n\u001b[0;32m    350\u001b[0m \u001b[43m        \u001b[49m\u001b[43mignore_index\u001b[49m\u001b[38;5;241;43m=\u001b[39;49m\u001b[43mignore_index\u001b[49m\u001b[43m,\u001b[49m\n\u001b[0;32m    351\u001b[0m \u001b[43m        \u001b[49m\u001b[43mjoin\u001b[49m\u001b[38;5;241;43m=\u001b[39;49m\u001b[43mjoin\u001b[49m\u001b[43m,\u001b[49m\n\u001b[0;32m    352\u001b[0m \u001b[43m        \u001b[49m\u001b[43mkeys\u001b[49m\u001b[38;5;241;43m=\u001b[39;49m\u001b[43mkeys\u001b[49m\u001b[43m,\u001b[49m\n\u001b[0;32m    353\u001b[0m \u001b[43m        \u001b[49m\u001b[43mlevels\u001b[49m\u001b[38;5;241;43m=\u001b[39;49m\u001b[43mlevels\u001b[49m\u001b[43m,\u001b[49m\n\u001b[0;32m    354\u001b[0m \u001b[43m        \u001b[49m\u001b[43mnames\u001b[49m\u001b[38;5;241;43m=\u001b[39;49m\u001b[43mnames\u001b[49m\u001b[43m,\u001b[49m\n\u001b[0;32m    355\u001b[0m \u001b[43m        \u001b[49m\u001b[43mverify_integrity\u001b[49m\u001b[38;5;241;43m=\u001b[39;49m\u001b[43mverify_integrity\u001b[49m\u001b[43m,\u001b[49m\n\u001b[0;32m    356\u001b[0m \u001b[43m        \u001b[49m\u001b[43mcopy\u001b[49m\u001b[38;5;241;43m=\u001b[39;49m\u001b[43mcopy\u001b[49m\u001b[43m,\u001b[49m\n\u001b[0;32m    357\u001b[0m \u001b[43m        \u001b[49m\u001b[43msort\u001b[49m\u001b[38;5;241;43m=\u001b[39;49m\u001b[43msort\u001b[49m\u001b[43m,\u001b[49m\n\u001b[0;32m    358\u001b[0m \u001b[43m    \u001b[49m\u001b[43m)\u001b[49m\n\u001b[0;32m    360\u001b[0m     \u001b[38;5;28;01mreturn\u001b[39;00m op\u001b[38;5;241m.\u001b[39mget_result()\n",
      "File \u001b[1;32mC:\\new conda\\lib\\site-packages\\pandas\\core\\reshape\\concat.py:404\u001b[0m, in \u001b[0;36m_Concatenator.__init__\u001b[1;34m(self, objs, axis, join, keys, levels, names, ignore_index, verify_integrity, copy, sort)\u001b[0m\n\u001b[0;32m    401\u001b[0m     objs \u001b[38;5;241m=\u001b[39m \u001b[38;5;28mlist\u001b[39m(objs)\n\u001b[0;32m    403\u001b[0m \u001b[38;5;28;01mif\u001b[39;00m \u001b[38;5;28mlen\u001b[39m(objs) \u001b[38;5;241m==\u001b[39m \u001b[38;5;241m0\u001b[39m:\n\u001b[1;32m--> 404\u001b[0m     \u001b[38;5;28;01mraise\u001b[39;00m \u001b[38;5;167;01mValueError\u001b[39;00m(\u001b[38;5;124m\"\u001b[39m\u001b[38;5;124mNo objects to concatenate\u001b[39m\u001b[38;5;124m\"\u001b[39m)\n\u001b[0;32m    406\u001b[0m \u001b[38;5;28;01mif\u001b[39;00m keys \u001b[38;5;129;01mis\u001b[39;00m \u001b[38;5;28;01mNone\u001b[39;00m:\n\u001b[0;32m    407\u001b[0m     objs \u001b[38;5;241m=\u001b[39m \u001b[38;5;28mlist\u001b[39m(com\u001b[38;5;241m.\u001b[39mnot_none(\u001b[38;5;241m*\u001b[39mobjs))\n",
      "\u001b[1;31mValueError\u001b[0m: No objects to concatenate"
     ]
    }
   ],
   "source": [
    "dataframes_list3 =[]\n",
    "for k in range(len(files3)):\n",
    "        temp_df3=(pd.read_csv(files3[k],skiprows=3))\n",
    "        dataframes_list3.append(temp_df3)\n",
    "        \n",
    "        \n",
    "data3=pd.concat(dataframes_list3)            \n",
    "df3=pd.DataFrame(data3)\n",
    "df3['class']='cycling'\n"
   ]
  },
  {
   "cell_type": "code",
   "execution_count": null,
   "id": "2095a970",
   "metadata": {},
   "outputs": [],
   "source": [
    "dataframes_list4 =[]\n",
    "for k in range(len(files4)):\n",
    "        temp_df4=(pd.read_csv(files4[k],skiprows=4))\n",
    "        dataframes_list4.append(temp_df4)\n",
    "        \n",
    "        \n",
    "data4=pd.concat(dataframes_list4)            \n",
    "df4=pd.DataFrame(data4)\n",
    "df4['class']='laying'\n"
   ]
  },
  {
   "cell_type": "code",
   "execution_count": null,
   "id": "8ffec894",
   "metadata": {},
   "outputs": [],
   "source": [
    "dataframes_list5 =[]\n",
    "for k in range(len(files5)):\n",
    "        temp_df5=(pd.read_csv(files5[k],skiprows=4))\n",
    "        dataframes_list5.append(temp_df5)\n",
    "        \n",
    "        \n",
    "data5=pd.concat(dataframes_list5)            \n",
    "df5=pd.DataFrame(data5)\n",
    "df5['class']='sitting'\n"
   ]
  },
  {
   "cell_type": "code",
   "execution_count": null,
   "id": "aa1fde38",
   "metadata": {},
   "outputs": [],
   "source": [
    "dataframes_list6 =[]\n",
    "for k in range(len(files6)):\n",
    "        temp_df6=(pd.read_csv(files6[k],skiprows=4))\n",
    "        dataframes_list6.append(temp_df6)\n",
    "        \n",
    "        \n",
    "data6=pd.concat(dataframes_list6)            \n",
    "df6=pd.DataFrame(data6)\n",
    "df6['class']='standing'\n"
   ]
  },
  {
   "cell_type": "code",
   "execution_count": null,
   "id": "119f3702",
   "metadata": {},
   "outputs": [],
   "source": [
    "dataframes_list7 =[]\n",
    "for k in range(len(files2)):\n",
    "        temp_df2=(pd.read_csv(files7[k],skiprows=4))\n",
    "        dataframes_list7.append(temp_df2)\n",
    "        \n",
    "        \n",
    "data7=pd.concat(dataframes_list7)            \n",
    "df7=pd.DataFrame(data7)\n",
    "df7['class']='walking'\n"
   ]
  },
  {
   "cell_type": "code",
   "execution_count": null,
   "id": "af802dd7",
   "metadata": {},
   "outputs": [],
   "source": [
    "total_all=pd.merge(df1,df2,how='outer')\n",
    "total_all2=pd.merge(df4,df5,how='outer')\n",
    "total_all3=pd.merge(df6,df7,how='outer')\n",
    "total_all4=pd.merge(total_all,total_all2,how='outer')\n",
    "total_all5=pd.merge(total_all3,total_all4,how='outer')\n",
    "dx1=total_all5\n",
    "dx1"
   ]
  },
  {
   "cell_type": "code",
   "execution_count": null,
   "id": "168f3a57",
   "metadata": {},
   "outputs": [],
   "source": [
    "dx1.describe()"
   ]
  },
  {
   "cell_type": "code",
   "execution_count": null,
   "id": "b493e25c",
   "metadata": {},
   "outputs": [],
   "source": [
    "dx1=dx1.dropna()"
   ]
  },
  {
   "cell_type": "code",
   "execution_count": null,
   "id": "40ecb06c",
   "metadata": {},
   "outputs": [],
   "source": [
    "dx1.isnull().sum()"
   ]
  },
  {
   "cell_type": "code",
   "execution_count": null,
   "id": "cb9ed59c",
   "metadata": {},
   "outputs": [],
   "source": [
    "dx1.corr()"
   ]
  },
  {
   "cell_type": "code",
   "execution_count": null,
   "id": "ba259f69",
   "metadata": {},
   "outputs": [],
   "source": [
    "dx1=dx1.drop(columns=['# Columns: time'])\n"
   ]
  },
  {
   "cell_type": "code",
   "execution_count": null,
   "id": "2768d0f6",
   "metadata": {},
   "outputs": [],
   "source": [
    "dx1.columns[:]"
   ]
  },
  {
   "cell_type": "code",
   "execution_count": null,
   "id": "b7eb6b10",
   "metadata": {},
   "outputs": [],
   "source": [
    "dx1.shape\n",
    "dx1[dx1.columns[0]]"
   ]
  },
  {
   "cell_type": "code",
   "execution_count": null,
   "id": "9544a338",
   "metadata": {},
   "outputs": [],
   "source": [
    "dx1=dx1.drop_duplicates()\n",
    "dx1\n"
   ]
  },
  {
   "cell_type": "code",
   "execution_count": null,
   "id": "d4e2411a",
   "metadata": {},
   "outputs": [],
   "source": [
    "dx2=pd.DataFrame()\n",
    "dx2"
   ]
  },
  {
   "cell_type": "code",
   "execution_count": null,
   "id": "3b3abd59",
   "metadata": {},
   "outputs": [],
   "source": []
  },
  {
   "cell_type": "code",
   "execution_count": null,
   "id": "6c34da1d",
   "metadata": {},
   "outputs": [],
   "source": []
  },
  {
   "cell_type": "code",
   "execution_count": null,
   "id": "50321e17",
   "metadata": {},
   "outputs": [],
   "source": []
  },
  {
   "cell_type": "code",
   "execution_count": null,
   "id": "4f80dd8f",
   "metadata": {},
   "outputs": [],
   "source": []
  },
  {
   "cell_type": "code",
   "execution_count": null,
   "id": "e220f9e1",
   "metadata": {},
   "outputs": [],
   "source": [
    "standardscaler=StandardScaler()"
   ]
  },
  {
   "cell_type": "code",
   "execution_count": null,
   "id": "8e742377",
   "metadata": {},
   "outputs": [],
   "source": [
    "x=dx1[dx1.columns[:-1]]\n",
    "x.shape\n",
    "x"
   ]
  },
  {
   "cell_type": "code",
   "execution_count": null,
   "id": "8dac8db3",
   "metadata": {},
   "outputs": [],
   "source": [
    "var_rss12,avg_rss13,var_rss13,avg_rss23,var_rss23"
   ]
  },
  {
   "cell_type": "code",
   "execution_count": null,
   "id": "bbdf46a1",
   "metadata": {},
   "outputs": [],
   "source": [
    "y=dx1[dx1.columns[-1]]\n",
    "y\n"
   ]
  },
  {
   "cell_type": "code",
   "execution_count": null,
   "id": "74eae93a",
   "metadata": {},
   "outputs": [],
   "source": [
    "allclasses=y.unique()\n",
    "allclasses[:7]"
   ]
  },
  {
   "cell_type": "code",
   "execution_count": null,
   "id": "88ef6b80",
   "metadata": {},
   "outputs": [],
   "source": [
    "profile=ProfileReport(dx1)\n"
   ]
  },
  {
   "cell_type": "code",
   "execution_count": null,
   "id": "44cecf88",
   "metadata": {},
   "outputs": [],
   "source": [
    "\n",
    "ploting=plt.plot(x)\n",
    "ploting=plt.plot(y)\n",
    "ploting"
   ]
  },
  {
   "cell_type": "code",
   "execution_count": null,
   "id": "7ecddaca",
   "metadata": {},
   "outputs": [],
   "source": [
    "#ax=plt.axes(projection='3d')\n",
    "#ax.plot(x,y)"
   ]
  },
  {
   "cell_type": "code",
   "execution_count": null,
   "id": "0fc43cac",
   "metadata": {},
   "outputs": [],
   "source": []
  },
  {
   "cell_type": "code",
   "execution_count": null,
   "id": "a0bd1f20",
   "metadata": {},
   "outputs": [],
   "source": []
  },
  {
   "cell_type": "code",
   "execution_count": null,
   "id": "acbf4703",
   "metadata": {},
   "outputs": [],
   "source": [
    "std=standardscaler.fit_transform(x)\n",
    "std.shape\n"
   ]
  },
  {
   "cell_type": "code",
   "execution_count": null,
   "id": "e1c8ab64",
   "metadata": {},
   "outputs": [],
   "source": []
  },
  {
   "cell_type": "code",
   "execution_count": null,
   "id": "571169de",
   "metadata": {},
   "outputs": [],
   "source": [
    "std1=pd.DataFrame(std)\n",
    "std1"
   ]
  },
  {
   "cell_type": "code",
   "execution_count": null,
   "id": "a74831c0",
   "metadata": {},
   "outputs": [],
   "source": []
  },
  {
   "cell_type": "code",
   "execution_count": null,
   "id": "109be7c7",
   "metadata": {},
   "outputs": [],
   "source": []
  },
  {
   "cell_type": "code",
   "execution_count": null,
   "id": "1cbc9602",
   "metadata": {},
   "outputs": [],
   "source": []
  },
  {
   "cell_type": "code",
   "execution_count": null,
   "id": "22ad9c79",
   "metadata": {},
   "outputs": [],
   "source": [
    "from statsmodels.stats.outliers_influence import variance_inflation_factor\n",
    "vif_df=pd.DataFrame()"
   ]
  },
  {
   "cell_type": "code",
   "execution_count": null,
   "id": "f1b1eefa",
   "metadata": {},
   "outputs": [],
   "source": [
    "vif_df['vif']=[variance_inflation_factor(std1,i) for i in range(std.shape[1])]\n",
    "vif_df['feature']=dx1.columns[:-1]\n",
    "vif_df\n",
    "#if each feature value is lesserthen 10 than ignore it,else drop \n",
    "#rhe feature which is more\n"
   ]
  },
  {
   "cell_type": "code",
   "execution_count": null,
   "id": "d6d1ed68",
   "metadata": {},
   "outputs": [],
   "source": []
  },
  {
   "cell_type": "code",
   "execution_count": null,
   "id": "413a3fd8",
   "metadata": {},
   "outputs": [],
   "source": [
    "from sklearn.decomposition import PCA\n",
    "pca=PCA(0.90)\n",
    "x_pca = pca.fit_transform(std1[std1.columns[:]])\n",
    "\n",
    "print(x_pca)\n",
    "print(x_pca.shape)"
   ]
  },
  {
   "cell_type": "code",
   "execution_count": null,
   "id": "6844303c",
   "metadata": {},
   "outputs": [],
   "source": [
    "pca.explained_variance_ratio_\n"
   ]
  },
  {
   "cell_type": "code",
   "execution_count": null,
   "id": "c1a70a18",
   "metadata": {},
   "outputs": [],
   "source": [
    "dx1['class'][:25596].isnull().sum()"
   ]
  },
  {
   "cell_type": "code",
   "execution_count": null,
   "id": "391af4de",
   "metadata": {},
   "outputs": [],
   "source": [
    "pca1=pd.DataFrame(x_pca[:,:-1])\n",
    "pca1['class']=dx1['class'][:25597]\n",
    "pca1"
   ]
  },
  {
   "cell_type": "code",
   "execution_count": null,
   "id": "eadca7a2",
   "metadata": {},
   "outputs": [],
   "source": [
    "\n",
    "pca1['class']=pca1['class'][:25597].dropna()\n",
    "pca1['class'].isnull().sum()\n",
    "pca1['class'].dropna()\n",
    "#[soa for soa in pca1['class'] if soa== 'Nan'] \n"
   ]
  },
  {
   "cell_type": "code",
   "execution_count": null,
   "id": "f83682d0",
   "metadata": {},
   "outputs": [],
   "source": [
    "pca1[pca1.columns[:-1]]"
   ]
  },
  {
   "cell_type": "code",
   "execution_count": null,
   "id": "3df24554",
   "metadata": {},
   "outputs": [],
   "source": [
    "max_quantile=pca1[pca1.columns[0]].quantile(0.90)\n",
    "print(max_quantile)\n",
    "min_quantile=pca1[pca1.columns[0]].quantile(0.10)\n",
    "print(min_quantile)"
   ]
  },
  {
   "cell_type": "code",
   "execution_count": null,
   "id": "13d8b43b",
   "metadata": {},
   "outputs": [],
   "source": [
    "pca1=pca1[(pca1[0]>min_quantile) & (pca1[0]<max_quantile)]\n",
    "\n",
    "pca1=pca1.rename(columns={0:'avg_rss12',1:'var_rss12',2:'avg_rss13',3:'var_rss13',4:'avg_rss23'})\n"
   ]
  },
  {
   "cell_type": "code",
   "execution_count": null,
   "id": "4fd7e82a",
   "metadata": {},
   "outputs": [],
   "source": [
    "# var_rss12,avg_rss13,var_rss13,avg_rss23,var_rss23"
   ]
  },
  {
   "cell_type": "code",
   "execution_count": null,
   "id": "527932c0",
   "metadata": {},
   "outputs": [],
   "source": [
    ".Discont.notnull()"
   ]
  },
  {
   "cell_type": "code",
   "execution_count": null,
   "id": "a6baf294",
   "metadata": {},
   "outputs": [],
   "source": [
    "df987=pca1[pca1['class'].notnull()]\n",
    "df987"
   ]
  },
  {
   "cell_type": "code",
   "execution_count": null,
   "id": "cc56e6e9",
   "metadata": {},
   "outputs": [],
   "source": [
    "mm=[nan for nan in pca1[pca1.columns[-1]].values ]\n",
    "mm.isnull().sum()"
   ]
  },
  {
   "cell_type": "code",
   "execution_count": null,
   "id": "0f6724a9",
   "metadata": {},
   "outputs": [],
   "source": [
    "y=df987['class']\n",
    "y"
   ]
  },
  {
   "cell_type": "code",
   "execution_count": null,
   "id": "472cd719",
   "metadata": {},
   "outputs": [],
   "source": [
    "y.isnull().sum()"
   ]
  },
  {
   "cell_type": "code",
   "execution_count": null,
   "id": "48d7397d",
   "metadata": {},
   "outputs": [],
   "source": [
    "y"
   ]
  },
  {
   "cell_type": "code",
   "execution_count": null,
   "id": "22a354bd",
   "metadata": {},
   "outputs": [],
   "source": [
    "y.isnull().sum()"
   ]
  },
  {
   "cell_type": "code",
   "execution_count": null,
   "id": "98d10916",
   "metadata": {},
   "outputs": [],
   "source": [
    "y"
   ]
  },
  {
   "cell_type": "code",
   "execution_count": null,
   "id": "6f4b195e",
   "metadata": {},
   "outputs": [],
   "source": [
    "\n",
    "#ploting=plt.plot(allclasses[0:7])\n",
    "ploting=plt.plot(df987[df987.columns[:-1]])\n",
    "ploting\n"
   ]
  },
  {
   "cell_type": "code",
   "execution_count": null,
   "id": "9c8843ef",
   "metadata": {},
   "outputs": [],
   "source": []
  },
  {
   "cell_type": "code",
   "execution_count": null,
   "id": "4fe4652b",
   "metadata": {},
   "outputs": [],
   "source": []
  },
  {
   "cell_type": "code",
   "execution_count": null,
   "id": "8130cf99",
   "metadata": {},
   "outputs": [],
   "source": []
  },
  {
   "cell_type": "code",
   "execution_count": null,
   "id": "86107206",
   "metadata": {},
   "outputs": [],
   "source": []
  },
  {
   "cell_type": "code",
   "execution_count": null,
   "id": "f507a082",
   "metadata": {},
   "outputs": [],
   "source": [
    "x_train,x_test,y_train,y_test=train_test_split(df987[df987.columns[:-1]],y,test_size=0.15,random_state=100)"
   ]
  },
  {
   "cell_type": "code",
   "execution_count": null,
   "id": "5ee71f58",
   "metadata": {},
   "outputs": [],
   "source": [
    "log=LogisticRegression()"
   ]
  },
  {
   "cell_type": "code",
   "execution_count": null,
   "id": "13b49c7a",
   "metadata": {},
   "outputs": [],
   "source": [
    "log.fit(x_train,y_train)"
   ]
  },
  {
   "cell_type": "code",
   "execution_count": null,
   "id": "9c834910",
   "metadata": {},
   "outputs": [],
   "source": [
    "x_test[x_test.columns[:]][:1]"
   ]
  },
  {
   "cell_type": "code",
   "execution_count": null,
   "id": "79145f0c",
   "metadata": {},
   "outputs": [],
   "source": [
    "y_test[1:10]"
   ]
  },
  {
   "cell_type": "code",
   "execution_count": null,
   "id": "f099eed8",
   "metadata": {},
   "outputs": [],
   "source": []
  },
  {
   "cell_type": "code",
   "execution_count": null,
   "id": "1a40d4ca",
   "metadata": {},
   "outputs": [],
   "source": [
    "\n",
    "log_pred1=log.predict(x_test)\n",
    "log_pred1"
   ]
  },
  {
   "cell_type": "code",
   "execution_count": null,
   "id": "3d227667",
   "metadata": {},
   "outputs": [],
   "source": [
    "log.predict_proba(x_test[x_test.columns[:]][:1])"
   ]
  },
  {
   "cell_type": "code",
   "execution_count": null,
   "id": "8b8818fb",
   "metadata": {},
   "outputs": [],
   "source": []
  },
  {
   "cell_type": "code",
   "execution_count": null,
   "id": "ba5f05b5",
   "metadata": {},
   "outputs": [],
   "source": [
    "log.predict_log_proba(x_test[x_test.columns[:]][:1])"
   ]
  },
  {
   "cell_type": "code",
   "execution_count": null,
   "id": "f47eb01f",
   "metadata": {},
   "outputs": [],
   "source": [
    "log.score(x_test,y_test)"
   ]
  },
  {
   "cell_type": "code",
   "execution_count": null,
   "id": "850ace06",
   "metadata": {},
   "outputs": [],
   "source": []
  },
  {
   "cell_type": "code",
   "execution_count": null,
   "id": "9220e219",
   "metadata": {},
   "outputs": [],
   "source": []
  },
  {
   "cell_type": "code",
   "execution_count": null,
   "id": "a5662cd4",
   "metadata": {},
   "outputs": [],
   "source": []
  },
  {
   "cell_type": "code",
   "execution_count": null,
   "id": "c695ec13",
   "metadata": {},
   "outputs": [],
   "source": [
    "lognewtoncg=LogisticRegression(solver='newton-cg')"
   ]
  },
  {
   "cell_type": "code",
   "execution_count": null,
   "id": "f3c49dea",
   "metadata": {},
   "outputs": [],
   "source": [
    "lognewtoncg.fit(x_train,y_train)\n"
   ]
  },
  {
   "cell_type": "code",
   "execution_count": null,
   "id": "38aeab44",
   "metadata": {},
   "outputs": [],
   "source": [
    "y_test[0:5]"
   ]
  },
  {
   "cell_type": "code",
   "execution_count": null,
   "id": "cf592e91",
   "metadata": {},
   "outputs": [],
   "source": [
    "lognewtoncg.pred=lognewtoncg.predict(x_test)\n",
    "lognewtoncg.pred"
   ]
  },
  {
   "cell_type": "code",
   "execution_count": null,
   "id": "e132b9eb",
   "metadata": {},
   "outputs": [],
   "source": [
    "lognewtoncg.predict_proba(x_test[x_test.columns[:]][:1])"
   ]
  },
  {
   "cell_type": "code",
   "execution_count": null,
   "id": "431d45ff",
   "metadata": {},
   "outputs": [],
   "source": [
    "lognewtoncg.predict_log_proba(x_test[x_test.columns[:]][:1])"
   ]
  },
  {
   "cell_type": "code",
   "execution_count": null,
   "id": "7a3d6caf",
   "metadata": {},
   "outputs": [],
   "source": [
    "lognewtoncg.score(x_test,y_test)"
   ]
  },
  {
   "cell_type": "code",
   "execution_count": null,
   "id": "66683b37",
   "metadata": {},
   "outputs": [],
   "source": []
  },
  {
   "cell_type": "code",
   "execution_count": null,
   "id": "43d81228",
   "metadata": {},
   "outputs": [],
   "source": []
  },
  {
   "cell_type": "code",
   "execution_count": null,
   "id": "6848befe",
   "metadata": {},
   "outputs": [],
   "source": []
  },
  {
   "cell_type": "code",
   "execution_count": null,
   "id": "3e7d9ba7",
   "metadata": {},
   "outputs": [],
   "source": []
  },
  {
   "cell_type": "code",
   "execution_count": null,
   "id": "bbf3f89e",
   "metadata": {},
   "outputs": [],
   "source": [
    "logsag=LogisticRegression(solver='sag')"
   ]
  },
  {
   "cell_type": "code",
   "execution_count": null,
   "id": "19c2ad64",
   "metadata": {},
   "outputs": [],
   "source": [
    "logsag.fit(x_train,y_train)"
   ]
  },
  {
   "cell_type": "code",
   "execution_count": null,
   "id": "12ade8cc",
   "metadata": {},
   "outputs": [],
   "source": [
    "logsag.predict(x_test[x_test.columns[:]][:1])"
   ]
  },
  {
   "cell_type": "code",
   "execution_count": null,
   "id": "3a43bdb2",
   "metadata": {},
   "outputs": [],
   "source": [
    "logsag.predict_proba(x_test[x_test.columns[:]][:1])"
   ]
  },
  {
   "cell_type": "code",
   "execution_count": null,
   "id": "4bb7596a",
   "metadata": {},
   "outputs": [],
   "source": [
    "logsag.predict_log_proba(x_test[x_test.columns[:]][:1])"
   ]
  },
  {
   "cell_type": "code",
   "execution_count": null,
   "id": "da1d7716",
   "metadata": {},
   "outputs": [],
   "source": [
    "logsag.score(x_test,y_test)"
   ]
  },
  {
   "cell_type": "code",
   "execution_count": null,
   "id": "1d05b2c5",
   "metadata": {},
   "outputs": [],
   "source": []
  },
  {
   "cell_type": "code",
   "execution_count": null,
   "id": "28ee4110",
   "metadata": {},
   "outputs": [],
   "source": [
    "logsagm=LogisticRegression(solver='sag',multi_class='multinomial')"
   ]
  },
  {
   "cell_type": "code",
   "execution_count": null,
   "id": "30b339f9",
   "metadata": {},
   "outputs": [],
   "source": [
    "logsagm.fit(x_train,y_train)"
   ]
  },
  {
   "cell_type": "code",
   "execution_count": null,
   "id": "2d6f8b8a",
   "metadata": {},
   "outputs": [],
   "source": [
    "logsagm.predict(x_test)"
   ]
  },
  {
   "cell_type": "code",
   "execution_count": null,
   "id": "1f2f409c",
   "metadata": {},
   "outputs": [],
   "source": [
    "logsagm.predict_proba(x_test[x_test.columns[:]][:1])"
   ]
  },
  {
   "cell_type": "code",
   "execution_count": null,
   "id": "9ee12b71",
   "metadata": {},
   "outputs": [],
   "source": [
    "logsagm.predict_log_proba(x_test[x_test.columns[:]][:1])"
   ]
  },
  {
   "cell_type": "code",
   "execution_count": null,
   "id": "79f97d78",
   "metadata": {},
   "outputs": [],
   "source": [
    "logsagm.score(x_test,y_test)"
   ]
  },
  {
   "cell_type": "code",
   "execution_count": null,
   "id": "7b8b9f21",
   "metadata": {},
   "outputs": [],
   "source": []
  },
  {
   "cell_type": "code",
   "execution_count": null,
   "id": "1f2ae091",
   "metadata": {},
   "outputs": [],
   "source": []
  },
  {
   "cell_type": "code",
   "execution_count": null,
   "id": "18716cba",
   "metadata": {},
   "outputs": [],
   "source": [
    "logsaga=LogisticRegression(solver='saga',multi_class='multinomial')"
   ]
  },
  {
   "cell_type": "code",
   "execution_count": null,
   "id": "dcf7997b",
   "metadata": {},
   "outputs": [],
   "source": [
    "logsaga.fit(x_train,y_train)"
   ]
  },
  {
   "cell_type": "code",
   "execution_count": null,
   "id": "b8f53926",
   "metadata": {},
   "outputs": [],
   "source": [
    "logsaga.predict(x_test[x_test.columns[:]][:1])"
   ]
  },
  {
   "cell_type": "code",
   "execution_count": null,
   "id": "ef53e4b5",
   "metadata": {},
   "outputs": [],
   "source": [
    "logsaga.predict_proba(x_test[x_test.columns[:]][:1])"
   ]
  },
  {
   "cell_type": "code",
   "execution_count": null,
   "id": "67eb8e76",
   "metadata": {},
   "outputs": [],
   "source": [
    "logsaga.predict_log_proba(x_test[x_test.columns[:]][:1])"
   ]
  },
  {
   "cell_type": "code",
   "execution_count": null,
   "id": "455f7e87",
   "metadata": {},
   "outputs": [],
   "source": [
    "logsaga.score(x_test,y_test)"
   ]
  },
  {
   "cell_type": "code",
   "execution_count": null,
   "id": "782d4b53",
   "metadata": {},
   "outputs": [],
   "source": [
    "y_test.iloc[5]"
   ]
  },
  {
   "cell_type": "code",
   "execution_count": null,
   "id": "0765fcf4",
   "metadata": {},
   "outputs": [],
   "source": [
    "y_predictsaga=logsaga.predict(x_test)"
   ]
  },
  {
   "cell_type": "code",
   "execution_count": null,
   "id": "8742b897",
   "metadata": {},
   "outputs": [],
   "source": [
    "confusion_matrix(y_test,y_predictsaga)"
   ]
  },
  {
   "cell_type": "code",
   "execution_count": null,
   "id": "d86f3f6d",
   "metadata": {},
   "outputs": [],
   "source": [
    "y_predictsaga[10:20]"
   ]
  },
  {
   "cell_type": "code",
   "execution_count": null,
   "id": "48a51aca",
   "metadata": {},
   "outputs": [],
   "source": [
    "y_test[10:20]"
   ]
  },
  {
   "cell_type": "code",
   "execution_count": null,
   "id": "3db698a7",
   "metadata": {},
   "outputs": [],
   "source": [
    "roc_auc_ score(y_test,y_predictsaga)"
   ]
  },
  {
   "cell_type": "code",
   "execution_count": null,
   "id": "96ddc0ce",
   "metadata": {},
   "outputs": [],
   "source": []
  },
  {
   "cell_type": "code",
   "execution_count": null,
   "id": "f63254aa",
   "metadata": {},
   "outputs": [],
   "source": []
  },
  {
   "cell_type": "code",
   "execution_count": null,
   "id": "4ecd8c10",
   "metadata": {},
   "outputs": [],
   "source": [
    "y_predictsag=logsag.predict(x_test)\n"
   ]
  },
  {
   "cell_type": "code",
   "execution_count": null,
   "id": "6ace13fb",
   "metadata": {},
   "outputs": [],
   "source": [
    "confusion_matrix(y_test,y_predictsag)"
   ]
  },
  {
   "cell_type": "code",
   "execution_count": null,
   "id": "beaa238f",
   "metadata": {},
   "outputs": [],
   "source": [
    "y_predictlogsagm=logsagm.predict(x_test)"
   ]
  },
  {
   "cell_type": "code",
   "execution_count": null,
   "id": "69128dfc",
   "metadata": {},
   "outputs": [],
   "source": [
    "confusion_matrix(y_test,y_predictlogsagm)"
   ]
  },
  {
   "cell_type": "code",
   "execution_count": null,
   "id": "e6ff6027",
   "metadata": {},
   "outputs": [],
   "source": []
  },
  {
   "cell_type": "code",
   "execution_count": null,
   "id": "9a21e86c",
   "metadata": {},
   "outputs": [],
   "source": [
    "y_predictnewtoncg=lognewtoncg.predict(x_test)"
   ]
  },
  {
   "cell_type": "code",
   "execution_count": null,
   "id": "97b93216",
   "metadata": {},
   "outputs": [],
   "source": [
    "confusion_matrix(y_test,y_predictnewtoncg)"
   ]
  },
  {
   "cell_type": "code",
   "execution_count": null,
   "id": "3f22fb57",
   "metadata": {},
   "outputs": [],
   "source": [
    "CMnewtoncg=confusion_matrix(y_test,y_predictnewtoncg)"
   ]
  },
  {
   "cell_type": "code",
   "execution_count": null,
   "id": "6bd87be5",
   "metadata": {},
   "outputs": [],
   "source": [
    "TP,FP,TN,FN =CMnewtoncg[0][0],CMnewtoncg[0][1],CMnewtoncg[1][0],CMnewtoncg[1][1]"
   ]
  },
  {
   "cell_type": "code",
   "execution_count": null,
   "id": "6c7428ee",
   "metadata": {},
   "outputs": [],
   "source": [
    "TP,FP,TN,FN\n"
   ]
  },
  {
   "cell_type": "code",
   "execution_count": null,
   "id": "c0c16aa8",
   "metadata": {},
   "outputs": [],
   "source": [
    "# #def model_eval(y_true,y_pred):\n",
    "#     TN,FP,FN,TP = confusion_matrix(y_true,y_pred)\n",
    "#     accuracy= (TP + TN)/(TP+TN+FN+FP)\n",
    "#     precission = TP/(TP+FP)\n",
    "#     𝑅𝑒𝑐𝑎𝑙𝑙 = TP/(TP+FN)\n",
    "#     specificity=TN/(FP+TN)\n",
    "#     result = {'accuracy':accuracy,' precission': precission,' 𝑅𝑒𝑐𝑎𝑙𝑙': 𝑅𝑒𝑐𝑎𝑙𝑙}\n",
    "#     return result\n",
    "    \n",
    "# model_eval(y_test,y_predictnewtoncg)\n"
   ]
  },
  {
   "cell_type": "code",
   "execution_count": null,
   "id": "d024a427",
   "metadata": {},
   "outputs": [],
   "source": [
    "precission = TP/(TP+FP)\n",
    "precission"
   ]
  },
  {
   "cell_type": "code",
   "execution_count": null,
   "id": "28ccffec",
   "metadata": {},
   "outputs": [],
   "source": [
    "𝑅𝑒𝑐𝑎𝑙𝑙 = TP/(TP+FN)\n",
    "𝑅𝑒𝑐𝑎𝑙𝑙"
   ]
  },
  {
   "cell_type": "code",
   "execution_count": null,
   "id": "c89df9df",
   "metadata": {},
   "outputs": [],
   "source": [
    "accuracy= (TP + TN)/(TP+TN+FN+FP)\n",
    "accuracy"
   ]
  },
  {
   "cell_type": "code",
   "execution_count": null,
   "id": "65605ce4",
   "metadata": {},
   "outputs": [],
   "source": []
  },
  {
   "cell_type": "code",
   "execution_count": null,
   "id": "8ee63104",
   "metadata": {},
   "outputs": [],
   "source": []
  },
  {
   "cell_type": "code",
   "execution_count": null,
   "id": "cb4956b0",
   "metadata": {},
   "outputs": [],
   "source": [
    "y_log=log.predict(x_test)\n",
    "y_log"
   ]
  },
  {
   "cell_type": "code",
   "execution_count": null,
   "id": "6a689c6c",
   "metadata": {},
   "outputs": [],
   "source": [
    "confusion_matrix(y_test,y_log)"
   ]
  },
  {
   "cell_type": "code",
   "execution_count": null,
   "id": "66369d38",
   "metadata": {},
   "outputs": [],
   "source": [
    "y_test"
   ]
  },
  {
   "cell_type": "code",
   "execution_count": null,
   "id": "15ab9cd0",
   "metadata": {},
   "outputs": [],
   "source": [
    "log_pred1,y_log"
   ]
  },
  {
   "cell_type": "code",
   "execution_count": null,
   "id": "3d774ead",
   "metadata": {},
   "outputs": [],
   "source": [
    "#roc_auc_score(y_test,log_pred1)\n",
    "#roc_auc_score(y_test,y_log)"
   ]
  },
  {
   "cell_type": "code",
   "execution_count": null,
   "id": "dbe339d7",
   "metadata": {},
   "outputs": [],
   "source": [
    "\n"
   ]
  },
  {
   "cell_type": "code",
   "execution_count": null,
   "id": "9c7cbaf1",
   "metadata": {},
   "outputs": [],
   "source": []
  },
  {
   "cell_type": "code",
   "execution_count": null,
   "id": "79cabaad",
   "metadata": {},
   "outputs": [],
   "source": []
  },
  {
   "cell_type": "code",
   "execution_count": null,
   "id": "e8aa3c29",
   "metadata": {},
   "outputs": [],
   "source": []
  },
  {
   "cell_type": "code",
   "execution_count": null,
   "id": "eb140c86",
   "metadata": {},
   "outputs": [],
   "source": []
  },
  {
   "cell_type": "code",
   "execution_count": null,
   "id": "e298ae90",
   "metadata": {},
   "outputs": [],
   "source": []
  },
  {
   "cell_type": "code",
   "execution_count": null,
   "id": "2d0c605e",
   "metadata": {},
   "outputs": [],
   "source": []
  },
  {
   "cell_type": "code",
   "execution_count": null,
   "id": "3fdf0b15",
   "metadata": {},
   "outputs": [],
   "source": []
  },
  {
   "cell_type": "code",
   "execution_count": null,
   "id": "e94274ff",
   "metadata": {},
   "outputs": [],
   "source": []
  },
  {
   "cell_type": "code",
   "execution_count": null,
   "id": "e2af51e0",
   "metadata": {},
   "outputs": [],
   "source": []
  },
  {
   "cell_type": "code",
   "execution_count": null,
   "id": "c9e85bce",
   "metadata": {},
   "outputs": [],
   "source": []
  },
  {
   "cell_type": "code",
   "execution_count": null,
   "id": "d7c21316",
   "metadata": {},
   "outputs": [],
   "source": []
  },
  {
   "cell_type": "code",
   "execution_count": null,
   "id": "fe8fb0fd",
   "metadata": {},
   "outputs": [],
   "source": [
    "# dataframes_list3 =[]\n",
    "\n",
    "# for i in range(len(files)): \n",
    "#     temp_df4=(pd.read_csv(files[i],skiprows=4))\n",
    "#     dataframes_list3.append(temp_df4)\n",
    "\n"
   ]
  },
  {
   "cell_type": "code",
   "execution_count": null,
   "id": "1b85356d",
   "metadata": {},
   "outputs": [],
   "source": [
    "# data7=pd.concat(dataframes_list3)\n",
    "# df9=pd.DataFrame(data)\n"
   ]
  },
  {
   "cell_type": "code",
   "execution_count": null,
   "id": "216865d3",
   "metadata": {},
   "outputs": [],
   "source": [
    "# data=pd.concat(dataframes_list)\n",
    "# df1=pd.DataFrame(data)\n"
   ]
  },
  {
   "cell_type": "code",
   "execution_count": null,
   "id": "6abf8ec9",
   "metadata": {
    "scrolled": true
   },
   "outputs": [],
   "source": [
    "# path2='C:/Users/Tharun reddy/Downloads/AReM/'\n",
    "# label= glob(path2 +'*')\n",
    "# a='C:/Users/Tharun reddy/Downloads/AReM\\\\bendingType.pdf'\n",
    "# b='C:/Users/Tharun reddy/Downloads/AReM\\\\sensorsPlacement.pdf'\n",
    "# g=list()\n",
    "\n",
    "# def values(path):\n",
    "#     label= glob(path +'*')\n",
    "#     new_values=[]\n",
    "#     oli=[]\n",
    "#     dataframes_list =[]\n",
    "#     dataframes_list10 =[]\n",
    "    \n",
    "#     kli=[]\n",
    "#     for v in label:\n",
    "#         if v != a and v != b :\n",
    "#             folder3={v:[]}\n",
    "#             folder3[v]=glob(v +'/dataset*')\n",
    "#             kli.append(glob(v +'/dataset*'))\n",
    "#             new_values.append(folder3.values())\n",
    "#             #print(folder3.values())\n",
    "           \n",
    "#         else:\n",
    "#             pass\n",
    "#     for i in range(len(kli)):\n",
    "#             temp_df1=(pd.read_csv(kli[0][1],skiprows=4))\n",
    "#             temp_df10=(pd.read_csv(kli[0][2],skiprows=4))\n",
    "            \n",
    "#             dataframes_list.append(temp_df1)\n",
    "#             dataframes_list10.append(temp_df10)\n",
    "#             data=pd.concat(dataframes_list)\n",
    "#             data32=pd.concat(dataframes_list10)\n",
    "#             df1=pd.DataFrame(data)\n",
    "#             df2=pd.DataFrame(data32)\n",
    "           \n",
    "\n",
    "            \n",
    "#     return  df1,df2\n",
    "\n",
    "                 \n",
    "        \n",
    "    \n",
    "\n",
    "        \n",
    "# got=values(path2)\n",
    "\n"
   ]
  },
  {
   "cell_type": "code",
   "execution_count": null,
   "id": "275364c3",
   "metadata": {},
   "outputs": [],
   "source": [
    "           \n",
    "#     dataframes_list10.append(temp_df10)\n",
    "#     df2=pd.DataFrame(data32)\n",
    "    \n",
    "#     temp_df10=(pd.read_csv(kli[2][i],skiprows=4))\n",
    "    \n",
    "#     data32=pd.concat(dataframes_list10)\n",
    "    \n",
    "#     temp_df2=(pd.read_csv(kli[i][i],skiprows=4))\n",
    "#                 temp_df3=(pd.read_csv(kli[i][i],skiprows=4))\n",
    "#                 temp_df4=(pd.read_csv(kli[i][i],skiprows=4))\n",
    "#          while i==len(kli):       temp_df5=(pd.read_csv(kli[i][i],skiprows=4))\n",
    "#                 temp_df6=(pd.read_csv(kli[i][i],skiprows=4))\n",
    "#                 temp_df7=(pd.read_csv(kli[i][i],skiprows=4))\n",
    "    \n",
    "    \n",
    "    \n",
    "#             dataframes_list.append(temp_df2)\n",
    "#                 dataframes_list.append(temp_df3)\n",
    "#                 dataframes_list.append(temp_df4)\n",
    "#                 dataframes_list.append(temp_df5)\n",
    "#                 dataframes_list.append(temp_df6)\n",
    "#                 dataframes_list.append(temp_df7)\n",
    "    \n",
    "    \n",
    "    \n",
    "#     temp_df=(pd.read_csv(new_values[i],skiprows=4))\n",
    "#         dataframes_list.append(temp_df)\n",
    "\n",
    "#   for yu in dfg:\n",
    "#     print(yu[0])      \n",
    "        \n",
    "        \n",
    "# got=values(path2)\n",
    "# dfg= got[0]\n",
    "# for yu in dfg:\n",
    "#     print(yu[0])\n",
    "    \n",
    "#     dfg= got[0]\n",
    "# for yu in dfg:\n",
    "#     print(len(yu))"
   ]
  },
  {
   "cell_type": "code",
   "execution_count": null,
   "id": "58149c92",
   "metadata": {},
   "outputs": [],
   "source": [
    "#   got= new_values\n",
    "#     dfg=got[0]\n",
    "#     for r in dfg:\n",
    "#         rest=dfg[r]\n",
    "#         return rest\n",
    "\n",
    "\n",
    "# sx=values(path2)\n",
    "# sx"
   ]
  },
  {
   "cell_type": "code",
   "execution_count": null,
   "id": "97c59b68",
   "metadata": {},
   "outputs": [],
   "source": [
    "#  for i in range(len(new_values)):\n",
    "#         temp_df=(pd.read_csv(new_values[i],skiprows=4))\n",
    "#         dataframes_list.append(temp_df)"
   ]
  },
  {
   "cell_type": "code",
   "execution_count": null,
   "id": "285a8fd0",
   "metadata": {},
   "outputs": [],
   "source": [
    "# new_values"
   ]
  },
  {
   "cell_type": "code",
   "execution_count": null,
   "id": "4adfbfda",
   "metadata": {},
   "outputs": [],
   "source": [
    "# print(label)"
   ]
  },
  {
   "cell_type": "code",
   "execution_count": null,
   "id": "e41c23fe",
   "metadata": {},
   "outputs": [],
   "source": [
    "glob(label[i] +'dataset*')"
   ]
  },
  {
   "cell_type": "code",
   "execution_count": null,
   "id": "58447973",
   "metadata": {},
   "outputs": [],
   "source": [
    "# a='thar','gsbx','bjx'\n",
    "\n",
    "# for w in a:\n",
    "#     names={w:[]}\n",
    "#     print(names[w]=[6])\n",
    "      \n",
    "# names   "
   ]
  },
  {
   "cell_type": "code",
   "execution_count": null,
   "id": "60417ebf",
   "metadata": {},
   "outputs": [],
   "source": [
    "# for i in range(len(label)):\n",
    "#     if label[i]!= a or b:\n",
    "#         folder2={label[i]:[]}\n",
    "#         folder2[i]=glob(label[i]+'/dataset*')\n",
    "#         print(folder2.keys())\n",
    "        \n",
    "#     else:\n",
    "#         pass\n",
    "        \n",
    "#         print(folder3.get('C:/Users/Tharun reddy/Downloads/AReM\\\\bending1'))"
   ]
  },
  {
   "cell_type": "code",
   "execution_count": null,
   "id": "05059f89",
   "metadata": {},
   "outputs": [],
   "source": [
    "o=[]"
   ]
  },
  {
   "cell_type": "code",
   "execution_count": null,
   "id": "cce21a11",
   "metadata": {},
   "outputs": [],
   "source": [
    "# s=list(folder3.keys())\n",
    "#             for m in folder3:\n",
    "#                 rr=[]\n",
    "#                 rr=pd.DataFrame(data=folder3[m])\n",
    "#                 hh=rr[0]\n",
    "#                 print(rr)\n",
    "                \n",
    "                \n",
    "#                    #print(folder3.get('C:/Users/Tharun reddy/Downloads/AReM\\\\bending2'))\n",
    "#                 new_values=list(folder3.values())\n",
    "#                 #print(folder3[label[i]])\n",
    "#                 iu=[]\n",
    "#                 iu.append(folder3.values())\n",
    "#                 print(iu)"
   ]
  },
  {
   "cell_type": "code",
   "execution_count": null,
   "id": "25dd1b54",
   "metadata": {},
   "outputs": [],
   "source": [
    "# for i in range(1):\n",
    "#     print(i)"
   ]
  },
  {
   "cell_type": "code",
   "execution_count": null,
   "id": "77326190",
   "metadata": {},
   "outputs": [],
   "source": []
  },
  {
   "cell_type": "code",
   "execution_count": null,
   "id": "5ae0fb37",
   "metadata": {},
   "outputs": [],
   "source": []
  },
  {
   "cell_type": "code",
   "execution_count": null,
   "id": "a28f19f5",
   "metadata": {},
   "outputs": [],
   "source": []
  },
  {
   "cell_type": "code",
   "execution_count": null,
   "id": "551e31d4",
   "metadata": {},
   "outputs": [],
   "source": [
    "# s=np.all()\n",
    "# s"
   ]
  },
  {
   "cell_type": "code",
   "execution_count": null,
   "id": "ef5e5908",
   "metadata": {},
   "outputs": [],
   "source": []
  },
  {
   "cell_type": "code",
   "execution_count": null,
   "id": "a778e79f",
   "metadata": {},
   "outputs": [],
   "source": []
  },
  {
   "cell_type": "code",
   "execution_count": null,
   "id": "50f49adc",
   "metadata": {},
   "outputs": [],
   "source": []
  },
  {
   "cell_type": "code",
   "execution_count": null,
   "id": "99d5a92d",
   "metadata": {},
   "outputs": [],
   "source": []
  },
  {
   "cell_type": "code",
   "execution_count": null,
   "id": "ad296ac8",
   "metadata": {},
   "outputs": [],
   "source": []
  }
 ],
 "metadata": {
  "kernelspec": {
   "display_name": "Python 3 (ipykernel)",
   "language": "python",
   "name": "python3"
  },
  "language_info": {
   "codemirror_mode": {
    "name": "ipython",
    "version": 3
   },
   "file_extension": ".py",
   "mimetype": "text/x-python",
   "name": "python",
   "nbconvert_exporter": "python",
   "pygments_lexer": "ipython3",
   "version": "3.9.12"
  }
 },
 "nbformat": 4,
 "nbformat_minor": 5
}
